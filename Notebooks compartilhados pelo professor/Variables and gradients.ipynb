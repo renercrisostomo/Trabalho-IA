{
 "cells": [
  {
   "cell_type": "code",
   "execution_count": null,
   "metadata": {
    "collapsed": true
   },
   "outputs": [],
   "source": []
  },
  {
   "cell_type": "markdown",
   "metadata": {},
   "source": [
    "# Variables and Gradients"
   ]
  },
  {
   "cell_type": "code",
   "execution_count": 10,
   "metadata": {},
   "outputs": [
    {
     "name": "stdout",
     "output_type": "stream",
     "text": [
      "tensor([[ 1,  2],\n",
      "        [ 3,  4]])\n",
      "True\n",
      "tensor([ 4,  3,  2,  1])\n",
      "tensor([ 1.,  2.,  3.,  4.])\n",
      "False\n",
      "True\n"
     ]
    }
   ],
   "source": [
    "# Variables are now deprecated in Torch 0.4\n",
    "# This way, there is no difference between the codes bellow\n",
    "\n",
    "import torch\n",
    "from torch.autograd import Variable\n",
    "\n",
    "x = torch.tensor([[1,2],[3,4]], requires_grad=True)\n",
    "y = Variable(torch.tensor([4,3,2,1]), requires_grad=True)\n",
    "\n",
    "print(x)\n",
    "print(x.requires_grad)\n",
    "print(y)\n",
    "\n",
    "#or \n",
    "\n",
    "x = torch.Tensor([1,2,3,4])\n",
    "print(x)\n",
    "print(x.requires_grad)\n",
    "x.requires_grad_()\n",
    "print(x.requires_grad)\n",
    "\n"
   ]
  },
  {
   "cell_type": "code",
   "execution_count": 19,
   "metadata": {},
   "outputs": [
    {
     "name": "stdout",
     "output_type": "stream",
     "text": [
      "tensor(32)\n"
     ]
    },
    {
     "data": {
      "text/plain": [
       "tensor([  1,   4,  27])"
      ]
     },
     "execution_count": 19,
     "metadata": {},
     "output_type": "execute_result"
    }
   ],
   "source": [
    "# now let's see how autograd works.\n",
    "\n",
    "# First, let's define our parameters (variables)\n",
    "\n",
    "x = torch.tensor([1,2,3])\n",
    "x.requires_grad_()\n",
    "\n",
    "# our cost functions is x_1 + x_2^2 + x_3^3\n",
    "o = x[0] + x[1]**2 + x[2]**3\n",
    "print(o)\n",
    "\n",
    "o.backward() #This dispatches the gradients to the computational graph\n",
    "\n",
    "# for example, if we want to know the gradient of o wrt to x_1\n",
    "x.grad\n",
    "\n"
   ]
  },
  {
   "cell_type": "code",
   "execution_count": null,
   "metadata": {
    "collapsed": true
   },
   "outputs": [],
   "source": []
  },
  {
   "cell_type": "code",
   "execution_count": null,
   "metadata": {
    "collapsed": true
   },
   "outputs": [],
   "source": []
  }
 ],
 "metadata": {
  "kernelspec": {
   "display_name": "Python 3 (ipykernel)",
   "language": "python",
   "name": "python3"
  },
  "language_info": {
   "codemirror_mode": {
    "name": "ipython",
    "version": 3
   },
   "file_extension": ".py",
   "mimetype": "text/x-python",
   "name": "python",
   "nbconvert_exporter": "python",
   "pygments_lexer": "ipython3",
   "version": "3.10.9"
  }
 },
 "nbformat": 4,
 "nbformat_minor": 2
}
