{
 "cells": [
  {
   "cell_type": "markdown",
   "metadata": {},
   "source": [
    "# Introduction to torch tensors"
   ]
  },
  {
   "cell_type": "markdown",
   "metadata": {},
   "source": [
    "We start with matrices in numpy and its equivalent form in torch."
   ]
  },
  {
   "cell_type": "code",
   "execution_count": 1,
   "metadata": {},
   "outputs": [],
   "source": [
    "import numpy as np\n",
    "import torch"
   ]
  },
  {
   "cell_type": "code",
   "execution_count": 2,
   "metadata": {},
   "outputs": [
    {
     "name": "stdout",
     "output_type": "stream",
     "text": [
      "Lista em python:  [2, 3, 5]\n",
      "Array em numpy:  [2 3 5]\n",
      "Tensor torch:  tensor([2, 3, 5])\n"
     ]
    }
   ],
   "source": [
    "# Vetores\n",
    "v = [2, 3, 5] \n",
    "\n",
    "v_np = np.array(v)\n",
    "v_torch = torch.tensor(v)\n",
    "\n",
    "print(\"Lista em python: \", v)\n",
    "print(\"Array em numpy: \", v_np)\n",
    "print(\"Tensor torch: \", v_torch)"
   ]
  },
  {
   "cell_type": "code",
   "execution_count": 3,
   "metadata": {},
   "outputs": [
    {
     "name": "stdout",
     "output_type": "stream",
     "text": [
      "Python:  [[2.0, 3.0, 5.0], [1.0, 0, 1.0]]\n",
      "Numpy:  [[2. 3. 5.]\n",
      " [1. 0. 1.]]\n",
      "Torch:  tensor([[2., 3., 5.],\n",
      "        [1., 0., 1.]])\n"
     ]
    }
   ],
   "source": [
    "# Matrizes\n",
    "m = [[2.0, 3.0, 5.0], [1.0, 0, 1.0]] \n",
    "\n",
    "m_np = np.array(m)\n",
    "m_torch = torch.tensor(m)\n",
    "\n",
    "print(\"Python: \", m)\n",
    "print(\"Numpy: \", m_np)\n",
    "print(\"Torch: \", m_torch)"
   ]
  },
  {
   "cell_type": "code",
   "execution_count": 4,
   "metadata": {},
   "outputs": [
    {
     "name": "stdout",
     "output_type": "stream",
     "text": [
      "(2, 3)\n",
      "torch.Size([2, 3])\n"
     ]
    }
   ],
   "source": [
    "# Recuperando a dimensao do array (numpy)\n",
    "print(m_np.shape)\n",
    "\n",
    "# Recuperando a dimensao (formato) do tensor\n",
    "print(m_torch.shape)"
   ]
  },
  {
   "cell_type": "code",
   "execution_count": 6,
   "metadata": {},
   "outputs": [
    {
     "name": "stdout",
     "output_type": "stream",
     "text": [
      "3.0\n",
      "tensor([2., 1.])\n",
      "tensor([2., 3., 5.])\n",
      "tensor([[2., 3.],\n",
      "        [1., 0.]])\n"
     ]
    }
   ],
   "source": [
    "# slicing\n",
    "\n",
    "print(m_torch[0, 1].item())  # recupera o elemento na linha 1, coluna 2\n",
    "\n",
    "print(m_torch[:, 0]) # recupera a primeira coluna (ou coluna 0)\n",
    "\n",
    "print(m_torch[0, :]) # recupera a primeira linha (ou linha 0)\n",
    "\n",
    "print(m_torch[:, 0:-1]) # = m_torch[:, 0:2]\n"
   ]
  },
  {
   "cell_type": "code",
   "execution_count": 36,
   "metadata": {},
   "outputs": [
    {
     "name": "stdout",
     "output_type": "stream",
     "text": [
      "tensor([[0.2670, 0.3021, 0.0228],\n",
      "        [0.3006, 0.2984, 0.3315],\n",
      "        [0.0902, 0.4470, 0.8662],\n",
      "        [0.4423, 0.3836, 0.2812],\n",
      "        [0.6573, 0.9635, 0.5582]])\n",
      "[[0.79236443 0.23016358 0.38599992 0.0267528  0.58905181]\n",
      " [0.51649234 0.18610819 0.22612061 0.25563832 0.75705574]\n",
      " [0.83136125 0.04152048 0.22407562 0.1199043  0.59837074]\n",
      " [0.21788849 0.19248744 0.76728772 0.68924414 0.44890463]\n",
      " [0.90827948 0.78239531 0.02865923 0.13084321 0.12799087]]\n"
     ]
    }
   ],
   "source": [
    "# Criando tensores aleatórios\n",
    "\n",
    "m_aleatoria = torch.rand(5, 3)\n",
    "print(m_aleatoria)\n",
    "\n",
    "a_aleatoria = np.random.rand(5, 5)\n",
    "print(a_aleatoria)"
   ]
  },
  {
   "cell_type": "markdown",
   "metadata": {},
   "source": [
    "Defining common matrices/tensors"
   ]
  },
  {
   "cell_type": "code",
   "execution_count": 9,
   "metadata": {},
   "outputs": [
    {
     "name": "stdout",
     "output_type": "stream",
     "text": [
      "[[1. 1.]\n",
      " [1. 1.]]\n",
      "tensor([[1., 1.],\n",
      "        [1., 1.]])\n"
     ]
    }
   ],
   "source": [
    "x = np.ones((2, 2))\n",
    "y = torch.ones(2,2)\n",
    "\n",
    "print(x)\n",
    "print(y)"
   ]
  },
  {
   "cell_type": "code",
   "execution_count": 43,
   "metadata": {},
   "outputs": [
    {
     "name": "stdout",
     "output_type": "stream",
     "text": [
      "[[1. 1.]\n",
      " [1. 1.]]\n",
      "<class 'numpy.ndarray'>\n",
      "tensor([[1., 1.],\n",
      "        [1., 1.]], dtype=torch.float64)\n"
     ]
    }
   ],
   "source": [
    "# Trasnformando de numpy para torch\n",
    "\n",
    "np_array = np.ones((2, 2))\n",
    "print(np_array)\n",
    "print(type(np_array))\n",
    "\n",
    "tensor = torch.from_numpy(np_array)\n",
    "print(tensor)"
   ]
  },
  {
   "cell_type": "code",
   "execution_count": 44,
   "metadata": {},
   "outputs": [
    {
     "name": "stdout",
     "output_type": "stream",
     "text": [
      "tensor([[1., 1.],\n",
      "        [1., 1.]])\n",
      "<class 'torch.Tensor'>\n",
      "[[1. 1.]\n",
      " [1. 1.]]\n",
      "<class 'numpy.ndarray'>\n"
     ]
    }
   ],
   "source": [
    "# Passando de torch para numpy\n",
    "\n",
    "torch_tensor = torch.ones((2,2))\n",
    "print(torch_tensor)\n",
    "print(type(torch_tensor))\n",
    "\n",
    "z = torch_tensor.numpy()\n",
    "print(z)\n",
    "print(type(z))"
   ]
  },
  {
   "cell_type": "code",
   "execution_count": 15,
   "metadata": {},
   "outputs": [
    {
     "name": "stdout",
     "output_type": "stream",
     "text": [
      "tensor([[0.8369, 0.5055, 0.1847, 0.4179],\n",
      "        [0.0686, 0.4831, 0.2262, 0.6172]])\n",
      "2\n",
      "tensor([[[0.8369, 0.5055],\n",
      "         [0.1847, 0.4179]],\n",
      "\n",
      "        [[0.0686, 0.4831],\n",
      "         [0.2262, 0.6172]]])\n"
     ]
    }
   ],
   "source": [
    "# Remodelando tensors\n",
    "\n",
    "a = torch.rand(2, 4)\n",
    "print(a)\n",
    "print(a.shape[0])\n",
    "\n",
    "print(a.view(2, 2, -1))  # Qual a diferença entre view e reshape (em torch)?\n"
   ]
  },
  {
   "cell_type": "code",
   "execution_count": 14,
   "metadata": {},
   "outputs": [
    {
     "name": "stdout",
     "output_type": "stream",
     "text": [
      "tensor([0.7020, 0.0383])\n"
     ]
    },
    {
     "ename": "RuntimeError",
     "evalue": "shape '[4, -1]' is invalid for input of size 2",
     "output_type": "error",
     "traceback": [
      "\u001b[0;31m---------------------------------------------------------------------------\u001b[0m",
      "\u001b[0;31mRuntimeError\u001b[0m                              Traceback (most recent call last)",
      "Cell \u001b[0;32mIn[14], line 3\u001b[0m\n\u001b[1;32m      1\u001b[0m teste \u001b[38;5;241m=\u001b[39m torch\u001b[38;5;241m.\u001b[39mrand(\u001b[38;5;241m2\u001b[39m)\n\u001b[1;32m      2\u001b[0m \u001b[38;5;28mprint\u001b[39m(teste)\n\u001b[0;32m----> 3\u001b[0m \u001b[43mteste\u001b[49m\u001b[38;5;241;43m.\u001b[39;49m\u001b[43mview\u001b[49m\u001b[43m(\u001b[49m\u001b[38;5;241;43m4\u001b[39;49m\u001b[43m,\u001b[49m\u001b[38;5;241;43m-\u001b[39;49m\u001b[38;5;241;43m1\u001b[39;49m\u001b[43m)\u001b[49m\n",
      "\u001b[0;31mRuntimeError\u001b[0m: shape '[4, -1]' is invalid for input of size 2"
     ]
    }
   ],
   "source": [
    "teste = torch.rand(2)\n",
    "print(teste)\n",
    "teste.view(4,-1)"
   ]
  },
  {
   "cell_type": "code",
   "execution_count": 17,
   "metadata": {},
   "outputs": [
    {
     "name": "stdout",
     "output_type": "stream",
     "text": [
      "torch.Size([2, 3, 1, 4, 1])\n",
      "torch.Size([2, 1, 3, 1, 4, 1])\n",
      "torch.Size([2, 3, 4])\n"
     ]
    }
   ],
   "source": [
    "# Apertando e afrouxando tensores\n",
    "\n",
    "x = torch.rand(2, 3, 1, 4, 1)\n",
    "print(x.shape)\n",
    "\n",
    "x = x.unsqueeze(dim=1)\n",
    "print(x.shape)\n",
    "\n",
    "x = x.squeeze() \n",
    "print(x.shape)"
   ]
  },
  {
   "cell_type": "code",
   "execution_count": 19,
   "metadata": {},
   "outputs": [
    {
     "ename": "RuntimeError",
     "evalue": "The size of tensor a (2) must match the size of tensor b (4) at non-singleton dimension 0",
     "output_type": "error",
     "traceback": [
      "\u001b[0;31m---------------------------------------------------------------------------\u001b[0m",
      "\u001b[0;31mRuntimeError\u001b[0m                              Traceback (most recent call last)",
      "Cell \u001b[0;32mIn[19], line 7\u001b[0m\n\u001b[1;32m      4\u001b[0m b \u001b[38;5;241m=\u001b[39m torch\u001b[38;5;241m.\u001b[39mones((\u001b[38;5;241m2\u001b[39m,\u001b[38;5;241m2\u001b[39m))\n\u001b[1;32m      5\u001b[0m c \u001b[38;5;241m=\u001b[39m a\u001b[38;5;241m.\u001b[39mview(\u001b[38;5;241m4\u001b[39m, \u001b[38;5;241m-\u001b[39m\u001b[38;5;241m1\u001b[39m)\n\u001b[0;32m----> 7\u001b[0m \u001b[43mb\u001b[49m\u001b[43m \u001b[49m\u001b[38;5;241;43m+\u001b[39;49m\u001b[43m \u001b[49m\u001b[43mc\u001b[49m\n\u001b[1;32m      9\u001b[0m \u001b[38;5;28mprint\u001b[39m(a\u001b[38;5;241m+\u001b[39mb) \u001b[38;5;66;03m#or\u001b[39;00m\n\u001b[1;32m     10\u001b[0m \u001b[38;5;28mprint\u001b[39m(a\u001b[38;5;241m.\u001b[39madd(b))\n",
      "\u001b[0;31mRuntimeError\u001b[0m: The size of tensor a (2) must match the size of tensor b (4) at non-singleton dimension 0"
     ]
    }
   ],
   "source": [
    "# Element-wise addition\n",
    "\n",
    "a = torch.Tensor([[1, 2], [3, 4]])\n",
    "b = torch.ones((2,2))\n",
    "c = a.view(4, -1)\n",
    "\n",
    "a = c.view(2, 2)\n",
    "\n",
    "print(a+b) #or\n",
    "print(a.add(b))"
   ]
  },
  {
   "cell_type": "code",
   "execution_count": 86,
   "metadata": {},
   "outputs": [
    {
     "name": "stdout",
     "output_type": "stream",
     "text": [
      "tensor([[2., 3.],\n",
      "        [4., 5.]])\n"
     ]
    }
   ],
   "source": [
    "a.add_(b)  # it changes the value of a (in-place addition)\n",
    "#print(c)\n",
    "print(a)\n",
    "\n",
    "#the same is valid for subtraction (sub() or sub_())"
   ]
  },
  {
   "cell_type": "code",
   "execution_count": 89,
   "metadata": {},
   "outputs": [
    {
     "name": "stdout",
     "output_type": "stream",
     "text": [
      "tensor([[1., 2.],\n",
      "        [3., 4.]])\n",
      "tensor([[4., 2.],\n",
      "        [3., 4.]])\n",
      "tensor([[ 4.,  4.],\n",
      "        [ 9., 16.]])\n"
     ]
    }
   ],
   "source": [
    "# Multiplicação elemento-a-elemento\n",
    "\n",
    "a = torch.Tensor([[1, 2], [3, 4]])\n",
    "b = torch.Tensor([[4, 2], [3, 4]])\n",
    "\n",
    "print(a)\n",
    "print(b)\n",
    "print(a * b)"
   ]
  },
  {
   "cell_type": "code",
   "execution_count": 97,
   "metadata": {},
   "outputs": [
    {
     "name": "stdout",
     "output_type": "stream",
     "text": [
      "tensor([[0.2565, 0.1482, 0.1945],\n",
      "        [0.4432, 0.2917, 0.4780]])\n"
     ]
    }
   ],
   "source": [
    "# Multiplicação de matrizes\n",
    "A = torch.rand(2, 2)\n",
    "B = torch.rand(3, 2)\n",
    "\n",
    "print(A @ B.T) # Use .T para obter o transposto de uma matriz \n"
   ]
  },
  {
   "cell_type": "code",
   "execution_count": 107,
   "metadata": {},
   "outputs": [
    {
     "name": "stdout",
     "output_type": "stream",
     "text": [
      "Media: 0.50\n",
      "Desvio Padrao: 0.34\n",
      "tensor(0.5458)\n",
      "tensor([0.5264, 0.5653])\n"
     ]
    }
   ],
   "source": [
    "# Media e desvio padrao\n",
    "\n",
    "t = torch.rand(10)\n",
    "print(f\"Media: {t.mean():.2f}\")  # ou torch.mean(t)\n",
    "print(f\"Desvio Padrao: {t.std():.2f}\") # ou torch.std(t)\n",
    "\n",
    "t2 = torch.rand(10, 2)\n",
    "print(t2.mean())  # media de toda a matriz\n",
    "\n",
    "print(t2.mean(dim=0)) # media computada ao longo das linhas (dim=0)"
   ]
  },
  {
   "cell_type": "code",
   "execution_count": 22,
   "metadata": {},
   "outputs": [
    {
     "name": "stdout",
     "output_type": "stream",
     "text": [
      "tensor(0.3451)\n"
     ]
    }
   ],
   "source": [
    "m = torch.rand(3, 3)\n",
    "print(m.diag().mean())"
   ]
  },
  {
   "cell_type": "code",
   "execution_count": 117,
   "metadata": {},
   "outputs": [
    {
     "name": "stdout",
     "output_type": "stream",
     "text": [
      "torch.Size([3, 10])\n",
      "torch.Size([3, 10])\n",
      "2\n"
     ]
    }
   ],
   "source": [
    "# Shape, size() e dim()\n",
    "\n",
    "x = torch.rand(3, 10)\n",
    "print(x.shape)\n",
    "print(x.size())\n",
    "print(x.dim())"
   ]
  },
  {
   "cell_type": "code",
   "execution_count": null,
   "metadata": {
    "collapsed": true
   },
   "outputs": [],
   "source": []
  }
 ],
 "metadata": {
  "kernelspec": {
   "display_name": "Python 3 (ipykernel)",
   "language": "python",
   "name": "python3"
  },
  "language_info": {
   "codemirror_mode": {
    "name": "ipython",
    "version": 3
   },
   "file_extension": ".py",
   "mimetype": "text/x-python",
   "name": "python",
   "nbconvert_exporter": "python",
   "pygments_lexer": "ipython3",
   "version": "3.10.9"
  }
 },
 "nbformat": 4,
 "nbformat_minor": 2
}
